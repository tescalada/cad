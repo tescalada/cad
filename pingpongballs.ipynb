{
 "cells": [
  {
   "cell_type": "code",
   "execution_count": null,
   "metadata": {},
   "outputs": [],
   "source": [
    "import json\n",
    "from math import sqrt, pi, sin, degrees, cos, radians\n",
    "\n",
    "import cadquery as cq \n",
    "from jupyter_cadquery import set_defaults, set_sidecar, get_defaults, reset_cache, Animation\n",
    "from jupyter_cadquery.cadquery import show, PartGroup, Part, Faces, Edges\n",
    "from jupyter_cadquery.mate_assembly import Mate, MAssembly\n",
    " \n",
    "\n",
    "# remove \"clean\" to avoid errors OCP kernel error\n",
    "cq.occ_impl.shapes.Shape.clean = lambda x: x\n",
    "\n",
    "#set_sidecar(\"balls\")\n",
    "# tools shows the tree in the left side of the preview window, \n",
    "# useful on a large screen, but bad on the ipad\n",
    "set_defaults(\n",
    "    #tree_width=100,\n",
    "    #cad_width=400,\n",
    "    #display=\"sidecar\",\n",
    "    axes=True, \n",
    "    axes0=True, \n",
    "    #edge_accuracy=0.01, \n",
    "    #mate_scale=1, \n",
    "    #zoom=1, \n",
    "    #bb_factor=.5, \n",
    "    tools=True,\n",
    "    #mac_scrollbar=False,\n",
    ")\n",
    "\n",
    "pingpong_ball_diameter = 38 #mm\n",
    "led_diameter = 8 #mm\n",
    "led_base_diameter = 12 #mm\n",
    "\n",
    "pingpong_ball_radius = pingpong_ball_diameter / 2\n",
    "\n"
   ]
  },
  {
   "cell_type": "code",
   "execution_count": null,
   "metadata": {},
   "outputs": [],
   "source": [
    "\n",
    "def generate_spherepoints():\n",
    "    # this had to be run on the desktop directly because I couldn't get wolframengine working in dockerized juypter\n",
    "    from wolframclient.evaluation import WolframLanguageSession\n",
    "    from wolframclient.language import wl\n",
    "\n",
    "    session = WolframLanguageSession()\n",
    "\n",
    "    for n in range(101):\n",
    "        sp = session.evaluate(wl.SpherePoints(n))\n",
    "        with open(f\"sp/{n}.json\", \"w\") as f:\n",
    "            json.dump([(x,y,z) for (x,y,z) in sp], f)\n",
    "\n",
    "\n",
    "def load_spherepoints(n):\n",
    "    with open(f\"sp/{n}.json\", \"r\") as f:\n",
    "        return json.load(f)\n",
    "  \n",
    "\n"
   ]
  },
  {
   "cell_type": "code",
   "execution_count": 82,
   "metadata": {},
   "outputs": [
    {
     "data": {
      "image/png": "[encoded data removed]",
      "text/plain": [
       "<Figure size 432x288 with 1 Axes>"
      ]
     },
     "metadata": {
      "needs_background": "light"
     },
     "output_type": "display_data"
    },
    {
     "name": "stdout",
     "output_type": "stream",
     "text": [
      "top 4 packing efficiencies\n",
      "ball count 24: e=83.1%, d=64.1mm\n",
      "ball count 12: e=82.9%, d=34.3mm\n",
      "ball count 32: e=82.1%, d=80.6mm\n",
      "ball count 60: e=80.7%, d=125.8mm\n"
     ]
    }
   ],
   "source": [
    "\n",
    "def min_sphere_radius(sp, r):\n",
    "    \n",
    "    # determine which two points in the spherepoints are closest together (sp1 and sp2)\n",
    "    \n",
    "    closest_a = None\n",
    "    closest_b = None\n",
    "    # this is a unitsphere, so 2 is the biggest possible distance\n",
    "    closest_distance = 2\n",
    "    \n",
    "    remaining = sp.copy()\n",
    "    \n",
    "    while remaining:\n",
    "        i = remaining.pop()\n",
    "        \n",
    "        for x in remaining:\n",
    "            \n",
    "            # get the distance between i and x\n",
    "            dist = distance_finder(i, x)\n",
    "            if dist <= closest_distance:\n",
    "                closest_distance = dist\n",
    "                closest_a = i\n",
    "                closest_b = x\n",
    "        \n",
    "    # calculate the scalar to make the distance between spA and spB = r * 2\n",
    "    scalar = (r * 2.0) / closest_distance\n",
    "    \n",
    "    # return the distance from spA to 0,0,0 * the calculated scalar (- r maybe)\n",
    "    sphere_radius = distance_finder(closest_a, (0, 0, 0)) * scalar\n",
    "    sphere_radius -= r\n",
    "    return sphere_radius\n",
    "\n",
    "    \n",
    "def distance_finder(one, two):\n",
    "    x1, y1, z1 = one  # first coordinates\n",
    "    x2, y2, z2 = two  # second coordinates\n",
    "\n",
    "    return (((x2-x1)**2)+((y2-y1)**2)+((z2-z1)**2))**(1/2)    \n",
    "    \n",
    "\n",
    "def efficiency(globe_diameter, N, r):\n",
    "    \n",
    "    # calculate the surface area of the globe\n",
    "    globe_surface_area = 4 * pi * ((globe_diameter/2) + r)**2\n",
    "    \n",
    "    # calculate the area of the circle of the pingping ball at the equator (FIXME: the equator is wrong)\n",
    "    pingpong_ball_area_at_equator = pi * r**2\n",
    "    \n",
    "    # determine given N, what % of the globe will be covered in balls\n",
    "    pct_covered_by_balls = (pingpong_ball_area_at_equator * N) / globe_surface_area\n",
    "    \n",
    "    return pct_covered_by_balls * 100\n",
    "\n",
    "\n",
    "def plot_eff(eff):\n",
    "    import matplotlib\n",
    "    import matplotlib.pyplot as plt\n",
    "    import numpy as np\n",
    "\n",
    "    n, e, _ = list(zip(*eff))\n",
    "    \n",
    "    fig, ax = plt.subplots()\n",
    "    ax.plot(n, e)\n",
    "\n",
    "    ax.set(\n",
    "        xlabel='38mm balls (count)', \n",
    "        ylabel='packing efficiency (% of sphere covered)',\n",
    "        title='ping pong ball packing efficiency using SpherePoints distribution'\n",
    "    )\n",
    "    ax.grid()\n",
    "\n",
    "    fig.savefig(\"spherepoints_packing_efficiency.png\")\n",
    "    plt.show()\n",
    "\n",
    "\n",
    "\n",
    "\n",
    "eff = []\n",
    "\n",
    "\n",
    "# test all the combinations of ball counts from 3 to 100\n",
    "for n in range(3, 100):\n",
    "    \n",
    "    # load the wolfram spherepoints on a unitsphere\n",
    "    sp = load_spherepoints(n)\n",
    "    \n",
    "    # determine the smallest inner diameter d for the given sp at r where no balls interfere with eachother\n",
    "    d = min_sphere_radius(sp, r=pingpong_ball_radius) * 2\n",
    "    \n",
    "    # calculate the efficiency of the solution and log the results\n",
    "    e = efficiency(globe_diameter=d, N=n, r=pingpong_ball_radius)\n",
    "    #print(f\"{n} spheres e:{e:.02f} d:{d:.02f}\")\n",
    "    \n",
    "    eff.append((n, e, d))\n",
    "\n",
    "\n",
    "plot_eff(eff)\n",
    "\n",
    "\n",
    "x = 4\n",
    "from operator import itemgetter\n",
    "top_x = sorted(eff, key=itemgetter(1), reverse=True)[:x]\n",
    "\n",
    "print(f\"top {x} packing efficiencies\")\n",
    "for n, e, d in top_x:\n",
    "    print(f\"ball count {n}: e={e:.01f}%, d={d:.01f}mm\")\n"
   ]
  },
  {
   "cell_type": "code",
   "execution_count": 77,
   "metadata": {},
   "outputs": [],
   "source": [
    "\n",
    "def visualize_sp(globe_diameter, n, r):\n",
    "\n",
    "    xyz_points = load_spherepoints(n)\n",
    "\n",
    "    offset = (globe_diameter/2) + r\n",
    "\n",
    "    globe = cq.Workplane(\"XY\").sphere((globe_diameter/2))\n",
    "    \n",
    "    L = lambda *args: cq.Location(cq.Vector(*args))\n",
    "    C = lambda *args: cq.Color(*args)\n",
    "    \n",
    "    a = MAssembly(globe, name=\"globe\", color=C(\"gray\"), loc=L(0, 0, 0))\n",
    "    \n",
    "    for coord in xyz_points:\n",
    "        ball = cq.Workplane(\"XY\").sphere(r)\n",
    "        a.add(ball, name=f\"ball\", color=C(\"MediumAquaMarine\"), loc=L((coord[0]*offset, coord[1]*offset, coord[2]*offset)))\n",
    "    \n",
    "    w = show(a)\n",
    "    \n",
    "    from ipywidgets.embed import embed_data\n",
    "\n",
    "\n",
    "    data = embed_data(views=[w.cq_view.renderer])\n",
    "\n",
    "    \n",
    "    msg = f\"Visualization of {n} {r*2}mm diameter pingping balls on a {globe_diameter:.02f}mm diameter sphere\"\n",
    "    print(msg)\n",
    "\n",
    "    html_template = \"\"\"\n",
    "    <html>\n",
    "      <head>\n",
    "\n",
    "        <title>{msg}</title>\n",
    "\n",
    "        <!-- Load RequireJS, used by the IPywidgets for dependency management -->\n",
    "        <script \n",
    "          src=\"https://cdnjs.cloudflare.com/ajax/libs/require.js/2.3.4/require.min.js\" \n",
    "          integrity=\"sha256-Ae2Vz/4ePdIu6ZyI/5ZGsYnb+m0JlOmKPjt6XZ9JJkA=\" \n",
    "          crossorigin=\"anonymous\">\n",
    "        </script>\n",
    "\n",
    "        <!-- Load IPywidgets bundle for embedding. -->\n",
    "        <script\n",
    "          data-jupyter-widgets-cdn=\"https://cdn.jsdelivr.net/npm/\"\n",
    "          src=\"https://unpkg.com/@jupyter-widgets/html-manager@*/dist/embed-amd.js\" \n",
    "          crossorigin=\"anonymous\">\n",
    "        </script>\n",
    "\n",
    "        <!-- The state of all the widget models on the page -->\n",
    "        <script type=\"application/vnd.jupyter.widget-state+json\">\n",
    "          {manager_state}\n",
    "        </script>\n",
    "      </head>\n",
    "\n",
    "      <body>\n",
    "\n",
    "        <h1>{msg}</h1>\n",
    "\n",
    "        <div id=\"first-slider-widget\">\n",
    "          <!-- This script tag will be replaced by the view's DOM tree -->\n",
    "          <script type=\"application/vnd.jupyter.widget-view+json\">\n",
    "            {widget_views[0]}\n",
    "          </script>\n",
    "        </div>\n",
    "\n",
    "      </body>\n",
    "    </html>\n",
    "    \"\"\"\n",
    "\n",
    "    manager_state = json.dumps(data['manager_state'])\n",
    "    widget_views = [json.dumps(view) for view in data['view_specs']]\n",
    "    rendered_template = html_template.format(manager_state=manager_state, widget_views=widget_views, msg=msg)\n",
    "    with open(f'docs/export_{n}.html', 'w') as fp:\n",
    "        fp.write(rendered_template)\n",
    "\n",
    "    "
   ]
  },
  {
   "cell_type": "code",
   "execution_count": 78,
   "metadata": {},
   "outputs": [
    {
     "name": "stdout",
     "output_type": "stream",
     "text": [
      "(#1 most efficient solution under 100 balls)\n"
     ]
    },
    {
     "data": {
      "application/vnd.jupyter.widget-view+json": {
       "model_id": "610d67940f9f44319125f7d8dcffcf1c",
       "version_major": 2,
       "version_minor": 0
      },
      "text/plain": [
       "HBox(children=(VBox(children=(HBox(children=(Checkbox(value=True, description='Axes', indent=False, _dom_class…"
      ]
     },
     "metadata": {},
     "output_type": "display_data"
    },
    {
     "name": "stdout",
     "output_type": "stream",
     "text": [
      "Visualization of 24 38.0mm diameter pingping balls on a 64.12mm diameter sphere\n"
     ]
    }
   ],
   "source": [
    "x = 0\n",
    "n, e, d = top_x[x]\n",
    "print(f\"(#{x+1} most efficient solution under 100 balls)\") \n",
    "visualize_sp(\n",
    "    globe_diameter=d, \n",
    "    n=n, \n",
    "    r=r\n",
    ")"
   ]
  },
  {
   "cell_type": "code",
   "execution_count": 79,
   "metadata": {},
   "outputs": [
    {
     "name": "stdout",
     "output_type": "stream",
     "text": [
      "(#2 most efficient solution under 100 balls)\n"
     ]
    },
    {
     "data": {
      "application/vnd.jupyter.widget-view+json": {
       "model_id": "819cdc8431ff48f8b2deb2d52b5e0a86",
       "version_major": 2,
       "version_minor": 0
      },
      "text/plain": [
       "HBox(children=(VBox(children=(HBox(children=(Checkbox(value=True, description='Axes', indent=False, _dom_class…"
      ]
     },
     "metadata": {},
     "output_type": "display_data"
    },
    {
     "name": "stdout",
     "output_type": "stream",
     "text": [
      "Visualization of 12 38.0mm diameter pingping balls on a 34.28mm diameter sphere\n"
     ]
    }
   ],
   "source": [
    "x = 1\n",
    "n, e, d = top_x[x]\n",
    "print(f\"(#{x+1} most efficient solution under 100 balls)\")\n",
    "visualize_sp(\n",
    "    globe_diameter=d, \n",
    "    n=n, \n",
    "    r=r\n",
    ")"
   ]
  },
  {
   "cell_type": "code",
   "execution_count": 80,
   "metadata": {},
   "outputs": [
    {
     "name": "stdout",
     "output_type": "stream",
     "text": [
      "(#3 most efficient solution under 100 balls)\n"
     ]
    },
    {
     "data": {
      "application/vnd.jupyter.widget-view+json": {
       "model_id": "16755c52b986446bace41f6098606989",
       "version_major": 2,
       "version_minor": 0
      },
      "text/plain": [
       "HBox(children=(VBox(children=(HBox(children=(Checkbox(value=True, description='Axes', indent=False, _dom_class…"
      ]
     },
     "metadata": {},
     "output_type": "display_data"
    },
    {
     "name": "stdout",
     "output_type": "stream",
     "text": [
      "Visualization of 32 38.0mm diameter pingping balls on a 80.59mm diameter sphere\n"
     ]
    }
   ],
   "source": [
    "x = 2\n",
    "n, e, d = top_x[x]\n",
    "print(f\"(#{x+1} most efficient solution under 100 balls)\")\n",
    "visualize_sp(\n",
    "    globe_diameter=d, \n",
    "    n=n, \n",
    "    r=r\n",
    ")"
   ]
  },
  {
   "cell_type": "code",
   "execution_count": 81,
   "metadata": {},
   "outputs": [
    {
     "name": "stdout",
     "output_type": "stream",
     "text": [
      "(#4 most efficient solution under 100 balls)\n"
     ]
    },
    {
     "data": {
      "application/vnd.jupyter.widget-view+json": {
       "model_id": "f7b3c18a3aa941bfa4da65c91d2353d7",
       "version_major": 2,
       "version_minor": 0
      },
      "text/plain": [
       "HBox(children=(VBox(children=(HBox(children=(Checkbox(value=True, description='Axes', indent=False, _dom_class…"
      ]
     },
     "metadata": {},
     "output_type": "display_data"
    },
    {
     "name": "stdout",
     "output_type": "stream",
     "text": [
      "Visualization of 60 38.0mm diameter pingping balls on a 125.84mm diameter sphere\n"
     ]
    }
   ],
   "source": [
    "x = 3\n",
    "n, e, d = top_x[x]\n",
    "print(f\"(#{x+1} most efficient solution under 100 balls)\")\n",
    "visualize_sp(\n",
    "    globe_diameter=d, \n",
    "    n=n, \n",
    "    r=r\n",
    ")"
   ]
  },
  {
   "cell_type": "code",
   "execution_count": null,
   "metadata": {},
   "outputs": [],
   "source": []
  }
 ],
 "metadata": {
  "kernelspec": {
   "display_name": "Python 3",
   "language": "python",
   "name": "python3"
  },
  "language_info": {
   "codemirror_mode": {
    "name": "ipython",
    "version": 3
   },
   "file_extension": ".py",
   "mimetype": "text/x-python",
   "name": "python",
   "nbconvert_exporter": "python",
   "pygments_lexer": "ipython3",
   "version": "3.8.5"
  }
 },
 "nbformat": 4,
 "nbformat_minor": 4
}
