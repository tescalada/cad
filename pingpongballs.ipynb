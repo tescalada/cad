{
 "cells": [
  {
   "cell_type": "markdown",
   "metadata": {},
   "source": [
    "# some boilerplate\n",
    "\n",
    "imports and setting up the defaults for cadquery\n",
    "\n",
    "When working on the ipad set ipad True to disable sidecar, when on the desktop I set it false to use the sidecar with the wide monitor.\n",
    "(TODO: figure out if I can get this to be automatic based on client detection)\n"
   ]
  },
  {
   "cell_type": "code",
   "execution_count": 1,
   "metadata": {},
   "outputs": [],
   "source": [
    "import json\n",
    "from math import sqrt, pi, sin, degrees, cos, radians\n",
    "\n",
    "import cadquery as cq \n",
    "from jupyter_cadquery import set_defaults, set_sidecar, get_defaults, reset_cache, Animation\n",
    "from jupyter_cadquery.cadquery import show, PartGroup, Part, Faces, Edges\n",
    "from jupyter_cadquery.mate_assembly import Mate, MAssembly\n",
    " \n",
    "\n",
    "# remove \"clean\" to avoid errors OCP kernel error\n",
    "cq.occ_impl.shapes.Shape.clean = lambda x: x\n",
    "\n",
    "ipad=True\n",
    "# not really enough room on the ipad to use the sidecar and edit at the same time\n",
    "\n",
    "if not ipad:\n",
    "    set_sidecar(\"balls\")\n",
    "    \n",
    "# tools shows the tree in the left side of the preview window, \n",
    "# useful on a large screen, but bad on the ipad\n",
    "set_defaults(\n",
    "    #tree_width=100,\n",
    "    #cad_width=400,\n",
    "    #display=\"sidecar\",\n",
    "    axes=True, \n",
    "    axes0=True, \n",
    "    #edge_accuracy=0.01, \n",
    "    #mate_scale=1, \n",
    "    #zoom=1, \n",
    "    #bb_factor=.5, \n",
    "    tools=True,\n",
    "    #mac_scrollbar=False,\n",
    ")"
   ]
  },
  {
   "cell_type": "markdown",
   "metadata": {},
   "source": [
    "# Some Variables\n",
    "\n",
    "Setting the size of the pingpong balls and the size of the leds that will be put into them."
   ]
  },
  {
   "cell_type": "code",
   "execution_count": 1,
   "metadata": {},
   "outputs": [
    {
     "name": "stdout",
     "output_type": "stream",
     "text": [
      "Overwriting auto display for cadquery Workplane and Shape\n"
     ]
    }
   ],
   "source": [
    "pingpong_ball_diameter = 38 #mm\n",
    "led_diameter = 8 #mm\n",
    "led_base_diameter = 12 #mm\n",
    "\n",
    "pingpong_ball_radius = pingpong_ball_diameter / 2"
   ]
  },
  {
   "cell_type": "markdown",
   "metadata": {},
   "source": [
    "# Wolfram code to get the location of SpherePoints\n",
    "\n",
    "this code was executed elsewhere but the output is included here so it doesnt need to hit \n",
    "the wolfram server to get the data which doesnt change each time. The data is saved in json \n",
    "files and loaded wit hthe load_spherepoints function."
   ]
  },
  {
   "cell_type": "code",
   "execution_count": 2,
   "metadata": {},
   "outputs": [],
   "source": [
    "\n",
    "def generate_spherepoints():\n",
    "    # this had to be run on the desktop directly because I couldn't get wolframengine working in dockerized juypter\n",
    "    from wolframclient.evaluation import WolframLanguageSession\n",
    "    from wolframclient.language import wl\n",
    "\n",
    "    session = WolframLanguageSession()\n",
    "\n",
    "    for n in range(101):\n",
    "        sp = session.evaluate(wl.SpherePoints(n))\n",
    "        with open(f\"sp/{n}.json\", \"w\") as f:\n",
    "            json.dump([(x,y,z) for (x,y,z) in sp], f)\n",
    "\n",
    "\n",
    "def load_spherepoints(n):\n",
    "    with open(f\"sp/{n}.json\", \"r\") as f:\n",
    "        return json.load(f)\n",
    "  \n",
    "\n"
   ]
  },
  {
   "cell_type": "markdown",
   "metadata": {},
   "source": [
    "# Code for determining which solution is most efficient \n",
    "\n",
    "Most efficient in this case is covering the most surface area of the inner sphere with pingpong balls without having the balls overlap."
   ]
  },
  {
   "cell_type": "code",
   "execution_count": 3,
   "metadata": {},
   "outputs": [],
   "source": [
    "def min_sphere_radius(sp, r):\n",
    "    \n",
    "    # determine which two points in the spherepoints are closest together (sp1 and sp2)\n",
    "    \n",
    "    closest_a = None\n",
    "    closest_b = None\n",
    "    # this is a unitsphere, so 2 is the biggest possible distance\n",
    "    closest_distance = 2\n",
    "    \n",
    "    remaining = sp.copy()\n",
    "    \n",
    "    while remaining:\n",
    "        i = remaining.pop()\n",
    "        \n",
    "        for x in remaining:\n",
    "            \n",
    "            # get the distance between i and x\n",
    "            dist = distance_finder(i, x)\n",
    "            if dist <= closest_distance:\n",
    "                closest_distance = dist\n",
    "                closest_a = i\n",
    "                closest_b = x\n",
    "        \n",
    "    # calculate the scalar to make the distance between spA and spB = r * 2\n",
    "    scalar = (r * 2.0) / closest_distance\n",
    "    \n",
    "    # return the distance from spA to 0,0,0 * the calculated scalar - r\n",
    "    sphere_radius = distance_finder(closest_a, (0, 0, 0)) * scalar\n",
    "    sphere_radius -= r\n",
    "    return sphere_radius\n",
    "\n",
    "    \n",
    "def distance_finder(one, two):\n",
    "    x1, y1, z1 = one  # first coordinates\n",
    "    x2, y2, z2 = two  # second coordinates\n",
    "\n",
    "    return (((x2-x1)**2)+((y2-y1)**2)+((z2-z1)**2))**(1/2)    \n",
    "    \n",
    "\n",
    "def efficiency(globe_diameter, N, r):\n",
    "    \n",
    "    # calculate the surface area of the globe\n",
    "    globe_surface_area = 4 * pi * ((globe_diameter/2) + r)**2\n",
    "    \n",
    "    # calculate the area of the circle of the pingping ball at the equator (FIXME: the equator is wrong)\n",
    "    pingpong_ball_area_at_equator = pi * r**2\n",
    "    \n",
    "    # determine given N, what % of the globe will be covered in balls\n",
    "    pct_covered_by_balls = (pingpong_ball_area_at_equator * N) / globe_surface_area\n",
    "    \n",
    "    return pct_covered_by_balls * 100\n",
    "\n",
    "\n",
    "def plot_eff(eff, r):\n",
    "    import matplotlib\n",
    "    import matplotlib.pyplot as plt\n",
    "    import numpy as np\n",
    "\n",
    "    n, e, _ = list(zip(*eff))\n",
    "    \n",
    "    fig, ax = plt.subplots()\n",
    "    ax.plot(n, e)\n",
    "\n",
    "    ax.set(\n",
    "        xlabel=f'{r*2}mm balls (count)', \n",
    "        ylabel='packing efficiency (% of sphere covered)',\n",
    "        title='ping pong ball packing efficiency using SpherePoints distribution'\n",
    "    )\n",
    "    ax.grid()\n",
    "\n",
    "    fig.savefig(\"spherepoints_packing_efficiency.png\")\n",
    "    plt.show()"
   ]
  },
  {
   "cell_type": "markdown",
   "metadata": {},
   "source": [
    "# Calculate the efficiency for the first 100 possible solutions and chart it"
   ]
  },
  {
   "cell_type": "code",
   "execution_count": 4,
   "metadata": {},
   "outputs": [
    {
     "data": {
      "image/png": "[encoded data removed]",
      "text/plain": [
       "<Figure size 432x288 with 1 Axes>"
      ]
     },
     "metadata": {
      "needs_background": "light"
     },
     "output_type": "display_data"
    },
    {
     "name": "stdout",
     "output_type": "stream",
     "text": [
      "top 4 packing efficiencies\n",
      "ball count 24: e=83.1%, d=64.1mm\n",
      "ball count 12: e=82.9%, d=34.3mm\n",
      "ball count 32: e=82.1%, d=80.6mm\n",
      "ball count 60: e=80.7%, d=125.8mm\n"
     ]
    }
   ],
   "source": [
    "eff = []\n",
    "\n",
    "# test all the combinations of ball counts from 3 to 100\n",
    "for n in range(3, 100):\n",
    "    \n",
    "    # load the wolfram spherepoints on a unitsphere\n",
    "    sp = load_spherepoints(n)\n",
    "    \n",
    "    # determine the smallest inner diameter d for the given sp at r where no balls interfere with eachother\n",
    "    d = min_sphere_radius(sp, r=pingpong_ball_radius) * 2\n",
    "    \n",
    "    # calculate the efficiency of the solution and log the results\n",
    "    e = efficiency(globe_diameter=d, N=n, r=pingpong_ball_radius)\n",
    "    #print(f\"{n} spheres e:{e:.02f} d:{d:.02f}\")\n",
    "    \n",
    "    eff.append((n, e, d))\n",
    "\n",
    "\n",
    "plot_eff(\n",
    "    eff=eff, \n",
    "    r=pingpong_ball_radius,\n",
    ")\n",
    "\n",
    "\n",
    "x = 4\n",
    "from operator import itemgetter\n",
    "top_x = sorted(eff, key=itemgetter(1), reverse=True)[:x]\n",
    "\n",
    "print(f\"top {x} packing efficiencies\")\n",
    "for n, e, d in top_x:\n",
    "    print(f\"ball count {n}: e={e:.01f}%, d={d:.01f}mm\")"
   ]
  },
  {
   "cell_type": "markdown",
   "metadata": {},
   "source": [
    "There are some high spikes in efficiency at specific numbers. I have 50 leds and 60 returns a decently high efficiency, so that is the number I will use for my led sphere. It shouldn't be too much of an issue to only add 10 more leds to the string (energy consumption-wise)"
   ]
  },
  {
   "cell_type": "markdown",
   "metadata": {},
   "source": [
    "# Render out the top 4 solutions in cadquery to see what they look like."
   ]
  },
  {
   "cell_type": "code",
   "execution_count": 15,
   "metadata": {},
   "outputs": [],
   "source": [
    "\n",
    "def visualize_sp(globe_diameter, n, r):\n",
    "\n",
    "    xyz_points = load_spherepoints(n)\n",
    "\n",
    "    offset = (globe_diameter/2) + r\n",
    "\n",
    "    globe = cq.Workplane(\"XY\").sphere((globe_diameter/2))\n",
    "    \n",
    "    L = lambda *args: cq.Location(cq.Vector(*args))\n",
    "    C = lambda *args: cq.Color(*args)\n",
    "    \n",
    "    a = MAssembly(globe, name=\"globe\", color=C(\"gray\"), loc=L(0, 0, 0))\n",
    "    \n",
    "    for coord in xyz_points:\n",
    "        ball = cq.Workplane(\"XY\").sphere(r)\n",
    "        a.add(ball, name=f\"ball\", color=C(\"MediumAquaMarine\"), loc=L((coord[0]*offset, coord[1]*offset, coord[2]*offset)))\n",
    "    \n",
    "    print(f\"Visualization of {n} {r*2}mm diameter pingping balls on a {globe_diameter:.02f}mm diameter sphere\")\n",
    "    show(a)\n"
   ]
  },
  {
   "cell_type": "code",
   "execution_count": 16,
   "metadata": {},
   "outputs": [
    {
     "name": "stdout",
     "output_type": "stream",
     "text": [
      "(#1 most efficient solution under 100 balls)\n",
      "Visualization of 24 38.0mm diameter pingping balls on a 64.12mm diameter sphere\n"
     ]
    },
    {
     "data": {
      "application/vnd.jupyter.widget-view+json": {
       "model_id": "eae9949c45eb4c2aa068d795a0b1e500",
       "version_major": 2,
       "version_minor": 0
      },
      "text/plain": [
       "HBox(children=(VBox(children=(HBox(children=(Checkbox(value=True, description='Axes', indent=False, _dom_class…"
      ]
     },
     "metadata": {},
     "output_type": "display_data"
    }
   ],
   "source": [
    "x = 0\n",
    "n, e, d = top_x[x]\n",
    "print(f\"(#{x+1} most efficient solution under 100 balls)\") \n",
    "visualize_sp(\n",
    "    globe_diameter=d, \n",
    "    n=n, \n",
    "    r=pingpong_ball_radius,\n",
    ")"
   ]
  },
  {
   "cell_type": "code",
   "execution_count": 17,
   "metadata": {},
   "outputs": [
    {
     "name": "stdout",
     "output_type": "stream",
     "text": [
      "(#2 most efficient solution under 100 balls)\n",
      "Visualization of 12 38.0mm diameter pingping balls on a 34.28mm diameter sphere\n"
     ]
    },
    {
     "data": {
      "application/vnd.jupyter.widget-view+json": {
       "model_id": "9c2b28a5c08a47058c4d1993da9d74f6",
       "version_major": 2,
       "version_minor": 0
      },
      "text/plain": [
       "HBox(children=(VBox(children=(HBox(children=(Checkbox(value=True, description='Axes', indent=False, _dom_class…"
      ]
     },
     "metadata": {},
     "output_type": "display_data"
    }
   ],
   "source": [
    "x = 1\n",
    "n, e, d = top_x[x]\n",
    "print(f\"(#{x+1} most efficient solution under 100 balls)\")\n",
    "visualize_sp(\n",
    "    globe_diameter=d, \n",
    "    n=n, \n",
    "    r=pingpong_ball_radius,\n",
    ")"
   ]
  },
  {
   "cell_type": "code",
   "execution_count": 18,
   "metadata": {},
   "outputs": [
    {
     "name": "stdout",
     "output_type": "stream",
     "text": [
      "(#3 most efficient solution under 100 balls)\n",
      "Visualization of 32 38.0mm diameter pingping balls on a 80.59mm diameter sphere\n"
     ]
    },
    {
     "data": {
      "application/vnd.jupyter.widget-view+json": {
       "model_id": "8b97ba7892c44226bffea2137fb4a216",
       "version_major": 2,
       "version_minor": 0
      },
      "text/plain": [
       "HBox(children=(VBox(children=(HBox(children=(Checkbox(value=True, description='Axes', indent=False, _dom_class…"
      ]
     },
     "metadata": {},
     "output_type": "display_data"
    }
   ],
   "source": [
    "x = 2\n",
    "n, e, d = top_x[x]\n",
    "print(f\"(#{x+1} most efficient solution under 100 balls)\")\n",
    "visualize_sp(\n",
    "    globe_diameter=d, \n",
    "    n=n, \n",
    "    r=pingpong_ball_radius,\n",
    ")"
   ]
  },
  {
   "cell_type": "code",
   "execution_count": 19,
   "metadata": {},
   "outputs": [
    {
     "name": "stdout",
     "output_type": "stream",
     "text": [
      "(#4 most efficient solution under 100 balls)\n",
      "Visualization of 60 38.0mm diameter pingping balls on a 125.84mm diameter sphere\n"
     ]
    },
    {
     "data": {
      "application/vnd.jupyter.widget-view+json": {
       "model_id": "ff321376e1f847f88bbf64c51dc3406e",
       "version_major": 2,
       "version_minor": 0
      },
      "text/plain": [
       "HBox(children=(VBox(children=(HBox(children=(Checkbox(value=True, description='Axes', indent=False, _dom_class…"
      ]
     },
     "metadata": {},
     "output_type": "display_data"
    }
   ],
   "source": [
    "x = 3\n",
    "n, e, d = top_x[x]\n",
    "print(f\"(#{x+1} most efficient solution under 100 balls)\")\n",
    "visualize_sp(\n",
    "    globe_diameter=d, \n",
    "    n=n, \n",
    "    r=pingpong_ball_radius,\n",
    ")"
   ]
  },
  {
   "cell_type": "code",
   "execution_count": null,
   "metadata": {},
   "outputs": [],
   "source": []
  }
 ],
 "metadata": {
  "kernelspec": {
   "display_name": "Python 3",
   "language": "python",
   "name": "python3"
  },
  "language_info": {
   "codemirror_mode": {
    "name": "ipython",
    "version": 3
   },
   "file_extension": ".py",
   "mimetype": "text/x-python",
   "name": "python",
   "nbconvert_exporter": "python",
   "pygments_lexer": "ipython3",
   "version": "3.8.5"
  }
 },
 "nbformat": 4,
 "nbformat_minor": 4
}
